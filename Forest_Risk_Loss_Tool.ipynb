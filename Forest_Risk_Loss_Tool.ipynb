{
 "cells": [
  {
   "cell_type": "markdown",
   "id": "269ced73",
   "metadata": {},
   "source": [
    "# Forest Risk Loss"
   ]
  },
  {
   "cell_type": "markdown",
   "id": "cbe6de45",
   "metadata": {},
   "source": [
    "The base assumption of the methodology is that recent past deforestation is a good indicator to\n",
    "anticipate short-term future deforestation activity. And that the more standing forest in a given area,\n",
    "the greater the potential risk of future tree loss.\n",
    "\n",
    "Tree cover and tree loss data were then filtered using the following steps to obtain information on\n",
    "forest and deforestation\n",
    "- 1. Tree cover cells with a density ≥ 30% in the year 2000 were designed as potential forest cells;\n",
    "- 2. Potential forest cells located in known tree plantation areas were removed;\n",
    "- 3. Tree loss cells between 2001-2017 overlying forest cells remaining from step 2 were designated as deforestation;\n",
    "- 4. Deforestation cells were labelled as “protected” if overlaying a protected area, or as\n",
    "“unprotected” if the opposite."
   ]
  },
  {
   "cell_type": "markdown",
   "id": "7bd636af",
   "metadata": {},
   "source": [
    "![](https://i.ibb.co/s5W2xY1/2021-05-07-09-33-58-Whitepaper-Deforestation-Risk.png)"
   ]
  },
  {
   "cell_type": "markdown",
   "id": "f183c48c",
   "metadata": {},
   "source": [
    "The Forest Loss Risk Index (FLRI) – the risk of future deforestation – in a sourcing area was inferred\n",
    "from the timing and extent of recent deforestation, and remaining forest cover in the area. A\n",
    "weighting scheme was applied assigning higher weighting to two deforestation criteria which are\n",
    "indicative of a higher future risk:\n",
    "- 1) more recent deforestation is taken to indicate a higher ongoing deforestation pressure, and\n",
    "- 2) deforestation occurring in protected areas indicates a willingness to engage in illegal activities\n",
    "or a lack of enforcement.\n",
    "\n",
    "In order to calculate the index: \n",
    "* The past five years of deforestation activities (in % loss of forest cells) were summed using a decreasing weighting for older deforestation, giving more weight to recent activity. \n",
    "\n",
    "* Deforestation in protected areas was assigned a constant 100% weighting factor over the past five years. \n",
    "\n",
    "* This weighted recent deforestation area (ha) was then divided by the original ‘permanent forest’ area (ha, five years before present) to give a recent deforestation rate (%). \n",
    "\n",
    "* This recent deforestation rate was finally multiplied by permanent forest remaining in the area (%). This last step recognises the fact that deforestation activities need standing forest, and the greater the area of forest left, the greater the potential deforestation.\n",
    "\n",
    "The final Forest Loss Risk Index is a function of percentage recent deforestation rate and percentage remaining ‘permanent forest’, thus the final indicator is also expressed as a percentage. \n",
    "\n",
    "* If the result is 4% or more, the area is considered ‘high future deforestation risk’. The threshold of 4% is based on the fact that a deforestation rate of 5% is usually considered high (leading to total forest loss in 20 years). However, the threshold for classifying an area as ‘high risk’ can be changed according to risk appetite.\n"
   ]
  },
  {
   "cell_type": "markdown",
   "id": "8dd6d5bf",
   "metadata": {},
   "source": [
    "![](https://i.ibb.co/r76f44W/2021-05-07-09-34-47-Whitepaper-Deforestation-Risk.png)"
   ]
  },
  {
   "cell_type": "markdown",
   "id": "f349f2fc",
   "metadata": {},
   "source": [
    "# TODO\n",
    "\n",
    "## Jupyter\n",
    "- [X] Install geemap\n",
    "- [X] Load raster layers (treecover and loss)\n",
    "- [ ] Load vector layers with fusion tables\n",
    "\n",
    "## QGIS\n",
    "- [?] Process data in QGIS with plugin and graphic modeler\n",
    "\n",
    "## Documentation\n",
    "- [X] Organize and centralize tutorials in this jupyter"
   ]
  },
  {
   "cell_type": "markdown",
   "id": "b05f9cae",
   "metadata": {},
   "source": [
    "# Doubts"
   ]
  },
  {
   "cell_type": "markdown",
   "id": "625cfeb6",
   "metadata": {},
   "source": [
    "1. How to create an overlay in QGIS from a raster and a vector layer? (step two diagram)\n",
    "2. In QGIS there is a raster rescale function, do I use this function or the raster calculator?\n",
    "3. How to perform this logical operations in the graphic modeler in QGIS? looks easier with code, no?"
   ]
  },
  {
   "cell_type": "markdown",
   "id": "ab202e3a",
   "metadata": {},
   "source": [
    "\n",
    "# Installation\n",
    "\n",
    "From the anaconda prompt or from the terminal run the following:\n",
    "\n",
    "## Set up a conda environment\n",
    "```conda create -n geo python=3.8```\n",
    "\n",
    "```conda activate geo```\n",
    "## Install geemap\n",
    "```conda install geemap -c conda-forge```\n",
    "## Install and activate extensions\n",
    "```conda install jupyter_contrib_nbextensions -c conda-forge /n```\n",
    "\n",
    "```jupyter contrib nbextension install --user```\n",
    "\n"
   ]
  },
  {
   "cell_type": "markdown",
   "id": "a6df9c24",
   "metadata": {},
   "source": [
    "# import libraries"
   ]
  },
  {
   "cell_type": "code",
   "execution_count": 1,
   "id": "e2a06cf6",
   "metadata": {},
   "outputs": [],
   "source": [
    "import os\n",
    "import ee\n",
    "import geemap"
   ]
  },
  {
   "cell_type": "markdown",
   "id": "3286bdda",
   "metadata": {},
   "source": [
    "## convert GEE Javascript to Python"
   ]
  },
  {
   "cell_type": "code",
   "execution_count": 2,
   "id": "f7325c33",
   "metadata": {},
   "outputs": [],
   "source": [
    "js_snippet = \"\"\"\n",
    "var dataset = ee.Image('UMD/hansen/global_forest_change_2020_v1_8');\n",
    "var treeCoverVisParam = {\n",
    "  bands: ['treecover2000'],\n",
    "  min: 0,\n",
    "  max: 100,\n",
    "  palette: ['black', 'green']\n",
    "};\n",
    "Map.addLayer(dataset, treeCoverVisParam, 'tree cover');\n",
    "\n",
    "var treeLossVisParam = {\n",
    "  bands: ['lossyear'],\n",
    "  min: 0,\n",
    "  max: 20,\n",
    "  palette: ['yellow', 'red']\n",
    "};\n",
    "Map.addLayer(dataset, treeLossVisParam, 'tree loss year');\n",
    "\"\"\""
   ]
  },
  {
   "cell_type": "code",
   "execution_count": 3,
   "id": "38206c8a",
   "metadata": {},
   "outputs": [],
   "source": [
    "geemap.js_snippet_to_py(js_snippet, add_new_cell=True, import_ee=True, import_geemap=True, show_map=True)"
   ]
  },
  {
   "cell_type": "code",
   "execution_count": 4,
   "id": "73ca6335",
   "metadata": {},
   "outputs": [
    {
     "data": {
      "application/vnd.jupyter.widget-view+json": {
       "model_id": "a38fc3397d72404c9e3fc2eed62fa435",
       "version_major": 2,
       "version_minor": 0
      },
      "text/plain": [
       "Map(center=[40, -100], controls=(WidgetControl(options=['position'], widget=HBox(children=(ToggleButton(value=…"
      ]
     },
     "metadata": {},
     "output_type": "display_data"
    }
   ],
   "source": [
    "import ee\n",
    "import geemap\n",
    "\n",
    "Map = geemap.Map()\n",
    "\n",
    "dataset = ee.Image('UMD/hansen/global_forest_change_2020_v1_8')\n",
    "treeCoverVisParam = {\n",
    "  'bands': ['treecover2000'],\n",
    "  'min': 0,\n",
    "  'max': 100,\n",
    "  'palette': ['black', 'green']\n",
    "}\n",
    "Map.addLayer(dataset, treeCoverVisParam, 'tree cover')\n",
    "\n",
    "treeLossVisParam = {\n",
    "  'bands': ['lossyear'],\n",
    "  'min': 0,\n",
    "  'max': 20,\n",
    "  'palette': ['yellow', 'red']\n",
    "}\n",
    "Map.addLayer(dataset, treeLossVisParam, 'tree loss year')\n",
    "Map\n"
   ]
  },
  {
   "cell_type": "code",
   "execution_count": 8,
   "id": "aa41ada8",
   "metadata": {},
   "outputs": [],
   "source": [
    "js_snippet = \"\"\"\n",
    "var gfc2018 = ee.Image('UMD/hansen/global_forest_change_2018_v1_6');\n",
    "Map.addLayer(gfc2018);\n",
    "\n",
    "var treeCover = gfc2018.select(['treecover2000']);\n",
    "var lossImage = gfc2018.select(['loss']);\n",
    "var gainImage = gfc2018.select(['gain']);\n",
    "\n",
    "// Add the tree cover layer in green.\n",
    "Map.addLayer(treeCover.updateMask(treeCover),\n",
    "    {palette: ['000000', '00FF00'], max: 100}, 'Forest Cover');\n",
    "\n",
    "// Add the loss layer in red.\n",
    "Map.addLayer(lossImage.updateMask(lossImage),\n",
    "            {palette: ['FF0000']}, 'Loss');\n",
    "\n",
    "// Add the gain layer in blue.\n",
    "Map.addLayer(gainImage.updateMask(gainImage),\n",
    "            {palette: ['0000FF']}, 'Gain');\n",
    "\"\"\""
   ]
  },
  {
   "cell_type": "code",
   "execution_count": 9,
   "id": "b509587b",
   "metadata": {},
   "outputs": [],
   "source": [
    "geemap.js_snippet_to_py(js_snippet, add_new_cell=True, import_ee=True, import_geemap=True, show_map=True)"
   ]
  },
  {
   "cell_type": "code",
   "execution_count": 10,
   "id": "d2e1286e",
   "metadata": {},
   "outputs": [
    {
     "data": {
      "application/vnd.jupyter.widget-view+json": {
       "model_id": "da9ac4acc5c643839297fc6045a31420",
       "version_major": 2,
       "version_minor": 0
      },
      "text/plain": [
       "Map(center=[40, -100], controls=(WidgetControl(options=['position'], widget=HBox(children=(ToggleButton(value=…"
      ]
     },
     "metadata": {},
     "output_type": "display_data"
    }
   ],
   "source": [
    "Map = geemap.Map()\n",
    "\n",
    "gfc2018 = ee.Image('UMD/hansen/global_forest_change_2018_v1_6')\n",
    "Map.addLayer(gfc2018)\n",
    "\n",
    "treeCover = gfc2018.select(['treecover2000'])\n",
    "lossImage = gfc2018.select(['loss'])\n",
    "gainImage = gfc2018.select(['gain'])\n",
    "\n",
    "# Add the tree cover layer in green.\n",
    "Map.addLayer(treeCover.updateMask(treeCover),\n",
    "    {'palette': ['000000',  '00FF00'], 'max': 100}, 'Forest Cover')\n",
    "\n",
    "# Add the loss layer in red.\n",
    "Map.addLayer(lossImage.updateMask(lossImage),\n",
    "            {'palette': ['FF0000']}, 'Loss')\n",
    "\n",
    "# Add the gain layer in blue.\n",
    "Map.addLayer(gainImage.updateMask(gainImage),\n",
    "            {'palette': ['0000FF']}, 'Gain')\n",
    "Map\n"
   ]
  },
  {
   "cell_type": "markdown",
   "id": "0297d733",
   "metadata": {},
   "source": [
    "## export image"
   ]
  },
  {
   "cell_type": "code",
   "execution_count": null,
   "id": "f83b3f0c",
   "metadata": {},
   "outputs": [],
   "source": [
    "# Draw any shapes on the map using the Drawing tools before executing this code block\n",
    "roi = Map.user_roi"
   ]
  },
  {
   "cell_type": "code",
   "execution_count": null,
   "id": "d6f95a20",
   "metadata": {},
   "outputs": [],
   "source": [
    "# Set output directory\n",
    "out_dir = os.path.expanduser('~/Downloads')\n",
    "\n",
    "if not os.path.exists(out_dir):\n",
    "    os.makedirs(out_dir)\n",
    "\n",
    "filename = os.path.join(out_dir, 'treecover.tif')"
   ]
  },
  {
   "cell_type": "code",
   "execution_count": null,
   "id": "f8377aa6",
   "metadata": {},
   "outputs": [],
   "source": [
    "image = image.clip(roi)\n",
    "geemap.ee_export_image(image, filename=filename, scale=90, region=roi, file_per_band=False)"
   ]
  },
  {
   "cell_type": "markdown",
   "id": "17bd0a50",
   "metadata": {},
   "source": [
    "# Tutorials"
   ]
  },
  {
   "cell_type": "markdown",
   "id": "40d00711",
   "metadata": {},
   "source": [
    "## GEE"
   ]
  },
  {
   "cell_type": "markdown",
   "id": "8e19e4c5",
   "metadata": {},
   "source": [
    "End-to-End Google Earth Engine (Full Course Material)\n",
    "\n",
    "A hands-on introduction to applied remote sensing using Google Earth Engine.\n",
    "\n",
    "Ujaval Gandhi\n",
    "\n",
    "https://courses.spatialthoughts.com/end-to-end-gee.html"
   ]
  },
  {
   "cell_type": "markdown",
   "id": "7e6f805b",
   "metadata": {},
   "source": [
    "## Geemap GeoPython"
   ]
  },
  {
   "cell_type": "markdown",
   "id": "0e7fefa9",
   "metadata": {},
   "source": [
    "Jupyter and code:\n",
    "https://geemap.org/workshops/GeoPython_2021/"
   ]
  },
  {
   "cell_type": "code",
   "execution_count": null,
   "id": "90427d6b",
   "metadata": {},
   "outputs": [],
   "source": [
    "geemap.show_youtube(\"https://youtu.be/wGjpjh9IQ5I\")"
   ]
  },
  {
   "cell_type": "markdown",
   "id": "24490694",
   "metadata": {},
   "source": [
    "## Global Forest Watch"
   ]
  },
  {
   "cell_type": "code",
   "execution_count": null,
   "id": "76899929",
   "metadata": {
    "scrolled": true
   },
   "outputs": [],
   "source": [
    "geemap.show_youtube(\"https://youtu.be/UIal_fsskwY\")"
   ]
  },
  {
   "cell_type": "code",
   "execution_count": null,
   "id": "b0bfabd5",
   "metadata": {},
   "outputs": [],
   "source": [
    "geemap.show_youtube(\"https://youtu.be/CYK2MA0kdhQ\")"
   ]
  },
  {
   "cell_type": "markdown",
   "id": "a275cc15",
   "metadata": {},
   "source": [
    "## GEE in QGIS"
   ]
  },
  {
   "cell_type": "code",
   "execution_count": null,
   "id": "16b6a592",
   "metadata": {
    "scrolled": false
   },
   "outputs": [],
   "source": [
    "geemap.show_youtube(\"https://youtu.be/Z4p-sRI20vM\")"
   ]
  },
  {
   "cell_type": "markdown",
   "id": "f8cc286f",
   "metadata": {},
   "source": [
    "## Geospatial Ecology and Remote Sensing Lab - Hansen"
   ]
  },
  {
   "cell_type": "markdown",
   "id": "79498768",
   "metadata": {},
   "source": [
    "Guided tutorial and code:\n",
    "https://www.geospatialecology.com/emm_lab_7/"
   ]
  },
  {
   "cell_type": "code",
   "execution_count": null,
   "id": "00226887",
   "metadata": {},
   "outputs": [],
   "source": [
    "geemap.show_youtube(\"https://youtu.be/3TTWKTmer44\")"
   ]
  },
  {
   "cell_type": "markdown",
   "id": "c69d062a",
   "metadata": {},
   "source": [
    "# Next steps"
   ]
  },
  {
   "cell_type": "markdown",
   "id": "4d14c82e",
   "metadata": {},
   "source": [
    "## Web app"
   ]
  },
  {
   "cell_type": "markdown",
   "id": "bc355a1b",
   "metadata": {},
   "source": [
    "### Deploy web apps using ngrok"
   ]
  },
  {
   "cell_type": "markdown",
   "id": "05100b05",
   "metadata": {},
   "source": [
    "**Steps to deploy an Earth Engine App:**\n",
    "1. Install ngrok by following the [instruction](https://ngrok.com/download)\n",
    "3. Download the notebook [71_timelapse.ipynb](https://geemap.org/notebooks/71_timelapse/71_timelapse.ipynb) \n",
    "4. Run this from the command line: `voila --no-browser 71_timelapse.ipynb`\n",
    "5. Run this from the command line: `ngrok http 8866`\n",
    "6. Copy the link from the ngrok terminal window. The links looks like the following: https://randomstring.ngrok.io\n",
    "7. Share the link with anyone. \n",
    "\n",
    "**Optional steps:**\n",
    "* To show code cells from you app, run this from the command line: `voila --no-browser --strip_sources=False 71_timelapse.ipynb`\n",
    "* To protect your app with a password, run this: `ngrok http -auth=\"username:password\" 8866`\n",
    "* To run python simple http server in the directory, run this:`sudo python -m http.server 80` "
   ]
  },
  {
   "cell_type": "code",
   "execution_count": null,
   "id": "33470f71",
   "metadata": {},
   "outputs": [],
   "source": [
    "geemap.show_youtube(\"https://youtu.be/eRDZBVJcNCk\")"
   ]
  },
  {
   "cell_type": "markdown",
   "id": "9b5e6e01",
   "metadata": {},
   "source": [
    "### Deploy web apps using Heroku"
   ]
  },
  {
   "cell_type": "markdown",
   "id": "6fa94655",
   "metadata": {},
   "source": [
    "**Steps to deploy an Earth Engine App:**\n",
    "\n",
    "- [Sign up](https://signup.heroku.com/) for a free heroku account.\n",
    "- Follow the [instructions](https://devcenter.heroku.com/articles/getting-started-with-python#set-up) to install [Git](https://git-scm.com/book/en/v2/Getting-Started-Installing-Git) and Heroku Command Line Interface (CLI).\n",
    "- Authenticate heroku using the `heroku login` command.\n",
    "- Clone this repository: <https://github.com/giswqs/geemap-heroku>\n",
    "- Create your own Earth Engine notebook and put it under the `notebooks` directory.\n",
    "- Add Python dependencies in the `requirements.txt` file if needed.\n",
    "- Edit the `Procfile` file by replacing `notebooks/geemap.ipynb` with the path to your own notebook.\n",
    "- Commit changes to the repository by using `git add . && git commit -am \"message\"`.\n",
    "- Create a heroku app: `heroku create`\n",
    "- Run the `config_vars.py` script to extract Earth Engine token from your computer and set it as an environment variable on heroku: `python config_vars.py`\n",
    "- Deploy your code to heroku: `git push heroku master`\n",
    "- Open your heroku app: `heroku open`\n",
    "\n",
    "**Optional steps:**\n",
    "\n",
    "- To specify a name for your app, use `heroku apps:create example`\n",
    "- To preview your app locally, use `heroku local web`\n",
    "- To hide code cells from your app, you can edit the `Procfile` file and set `--strip_sources=True`\n",
    "- To periodically check for idle kernels, you can edit the `Procfile` file and set `--MappingKernelManager.cull_interval=60 --MappingKernelManager.cull_idle_timeout=120`\n",
    "- To view information about your running app, use `heroku logs --tail`\n",
    "- To set an environment variable on heroku, use `heroku config:set NAME=VALUE`\n",
    "- To view environment variables for your app, use `heroku config`"
   ]
  },
  {
   "cell_type": "code",
   "execution_count": null,
   "id": "620d8816",
   "metadata": {},
   "outputs": [],
   "source": [
    "geemap.show_youtube(\"https://youtu.be/nsIjfD83ggA\")"
   ]
  }
 ],
 "metadata": {
  "hide_input": false,
  "kernelspec": {
   "display_name": "Python 3",
   "language": "python",
   "name": "python3"
  },
  "language_info": {
   "codemirror_mode": {
    "name": "ipython",
    "version": 3
   },
   "file_extension": ".py",
   "mimetype": "text/x-python",
   "name": "python",
   "nbconvert_exporter": "python",
   "pygments_lexer": "ipython3",
   "version": "3.8.8"
  },
  "toc": {
   "base_numbering": 1,
   "nav_menu": {},
   "number_sections": true,
   "sideBar": true,
   "skip_h1_title": false,
   "title_cell": "Table of Contents",
   "title_sidebar": "Contents",
   "toc_cell": false,
   "toc_position": {
    "height": "calc(100% - 180px)",
    "left": "10px",
    "top": "150px",
    "width": "384px"
   },
   "toc_section_display": true,
   "toc_window_display": true
  }
 },
 "nbformat": 4,
 "nbformat_minor": 5
}
